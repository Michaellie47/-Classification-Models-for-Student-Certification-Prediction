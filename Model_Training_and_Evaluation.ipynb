{
 "cells": [
  {
   "cell_type": "markdown",
   "metadata": {},
   "source": [
    "# Model Training and Evaluation"
   ]
  },
  {
   "cell_type": "markdown",
   "metadata": {},
   "source": [
    "# Model 1: Logistic Regression\n",
    "- L2 Regularization (6 different penalty values).\n",
    "- Model evaluation with training and validation accuracy."
   ]
  },
  {
   "cell_type": "code",
   "execution_count": null,
   "metadata": {},
   "outputs": [],
   "source": [
    "import pandas as pd\n",
    "import numpy as np\n",
    "import matplotlib.pyplot as plt\n",
    "import seaborn as sns\n",
    "from sklearn.metrics import accuracy_score\n",
    "\n",
    "# -Model 1: Logistic Regression with 6 different hyperparameters (l2 penalty/ regularization)-\n",
    "from sklearn.linear_model import LogisticRegression\n",
    "l2_penalties = [0.001, 0.01, 0.1, 1, 10, 100]\n",
    "l2_penalty_names = [f'coefficients [L2={l2_penalty:.0e}]'\n",
    "                    for l2_penalty in l2_penalties]\n",
    "\n",
    "accuracy_data_model1 = []\n",
    "\n",
    "for l2_penalty, l2_penalty_column_name in zip(l2_penalties, l2_penalty_names):\n",
    "  model_1 = LogisticRegression(penalty = 'l2', C = 1/l2_penalty, fit_intercept = False, max_iter = 10000)\n",
    "  model_1.fit(X_train, y_train)\n",
    "\n",
    "  train_accuracy = model_1.score(X_train, y_train)\n",
    "  val_accuracy = model_1.score(X_val, y_val)\n",
    "\n",
    "  accuracy_data_model1.append({\n",
    "        'l2_penalty': l2_penalty,\n",
    "        'train_accuracy': train_accuracy,\n",
    "        'validation_accuracy': val_accuracy,\n",
    "    })\n",
    "\n",
    "  y_pred_model_1 = model_1.predict(X_val)\n",
    "  y_pred_class = y_pred_model_1\n",
    "\n",
    "  accuracy = accuracy_score(y_val, y_pred_class)\n",
    "  print(accuracy)\n",
    "  print(f\"Model 1 (Logistic Regression) with L2 penalty {l2_penalty}: Validation Accuracy = {val_accuracy}\")\n",
    "\n",
    "accuracies_table_1 = pd.DataFrame(accuracy_data_model1)\n",
    "\n",
    "\n",
    "# -Checking Accuracies tables-\n",
    "print(accuracies_table_1)\n",
    "print(accuracies_table_2)\n",
    "\n",
    "# -Plotting Training and Validation Accuracies-\n",
    "plt.figure(figsize = (10,6))\n",
    "\n",
    "plt.plot(accuracies_table_1['l2_penalty'], accuracies_table_1['train_accuracy'], color = 'red', label = 'Logistic Regression Train Error')\n",
    "plt.plot(accuracies_table_1['l2_penalty'], accuracies_table_1['validation_accuracy'], color = 'blue', linestyle = '--', label = 'Logistic Regression Validation Error')\n",
    "\n",
    "plt.plot(accuracies_table_2['n_neighbors'], accuracies_table_2['train_accuracy'], color = 'green', label = 'KNN Train Error')\n",
    "plt.plot(accuracies_table_2['n_neighbors'], accuracies_table_2['validation_accuracy'], color = 'purple', linestyle = '--', label = 'KNN Validation Error')\n",
    "\n",
    "plt.title('Model 1 (Logistic Regression) and Model 2 (K-Nearest Neighbors) Accuracy')\n",
    "plt.xlabel('Hyperparameter')\n",
    "plt.ylabel('Accuracy')\n",
    "plt.legend()\n",
    "plt.grid(True)\n",
    "plt.xlim(0,101)\n",
    "plt.show()"
   ]
  },
  {
   "cell_type": "markdown",
   "metadata": {},
   "source": [
    "# Model 2: K-Nearest Neighbors (KNN)\n",
    "- Tried multiple neighbor values (5, 10, 15, etc.).\n",
    "- Compared results and evaluated based on validation accuracy."
   ]
  },
  {
   "cell_type": "code",
   "execution_count": null,
   "metadata": {},
   "outputs": [],
   "source": [
    "# -Model 2: K-Nearest Neighbors (KNN) with 2 Neighbors with 5 different hyperparameters (5 neighbors)-\n",
    "from sklearn.neighbors import KNeighborsClassifier\n",
    "n_neighbors = [5, 10, 15, 20, 25]\n",
    "accuracy_data_model2 = []\n",
    "\n",
    "for n_neighbor in n_neighbors:\n",
    "  model_2 = KNeighborsClassifier(n_neighbors = n_neighbor)\n",
    "  model_2.fit(X_train, y_train)\n",
    "\n",
    "  train_accuracy = model_2.score(X_train, y_train)\n",
    "  val_accuracy = model_2.score(X_val, y_val)\n",
    "\n",
    "  accuracy_data_model2.append({\n",
    "        'n_neighbors': n_neighbor,\n",
    "        'train_accuracy': train_accuracy,\n",
    "        'validation_accuracy': val_accuracy,\n",
    "    })\n",
    "\n",
    "  y_pred_model_2 = model_2.predict(X_val)\n",
    "  y_pred_class = y_pred_model_2\n",
    "\n",
    "  print(f\"Model 2 (KNN) with {n_neighbor} neighbors: Validation Accuracy = {val_accuracy}\")\n",
    "\n",
    "\n",
    "  accuracy = accuracy_score(y_val, y_pred_class)\n",
    "  print(accuracy)\n",
    "\n",
    "accuracies_table_2 = pd.DataFrame(accuracy_data_model2)"
   ]
  },
  {
   "cell_type": "markdown",
   "metadata": {},
   "source": [
    "# Model Selection\n",
    "- Model 1: Logistic Regression selected based on highest validation accuracy."
   ]
  },
  {
   "cell_type": "code",
   "execution_count": null,
   "metadata": {},
   "outputs": [],
   "source": [
    "# -Select the the Logistic Regression as the chosen best model due to validation accuracy-\n",
    "# Make predictions based on the Logistic Regression model\n",
    "best_model = max(accuracy_data_model1, key=lambda x: x['validation_accuracy'])\n",
    "model_1 = LogisticRegression(penalty='l2', C=1/best_model['l2_penalty'], fit_intercept=False, max_iter=10000)\n",
    "model_1.fit(X_train, y_train)\n",
    "\n",
    "\n",
    "df_test = df_test.drop(columns=['userid_DI'])\n",
    "df_test = imputer.transform(df_test)\n",
    "\n",
    "\n",
    "predictions_lr = model_1.predict(df_test)\n",
    "predictions_1 = [int(pred) for pred in predictions_lr]\n",
    "\n",
    "\n",
    "# -Saving to submission.csv file-\n",
    "df_test_submission = pd.read_csv('edx_test.csv')\n",
    "to_save = pd.DataFrame()\n",
    "to_save['userid_DI'] = df_test_submission['userid_DI']\n",
    "to_save['certified'] = predictions_1\n",
    "to_save.to_csv('submission.csv', index=False)\n"
   ]
  },
  {
   "cell_type": "markdown",
   "metadata": {},
   "source": []
  }
 ],
 "metadata": {
  "kernelspec": {
   "display_name": "Python 3",
   "language": "python",
   "name": "python3"
  },
  "language_info": {
   "codemirror_mode": {
    "name": "ipython",
    "version": 3
   },
   "file_extension": ".py",
   "mimetype": "text/x-python",
   "name": "python",
   "nbconvert_exporter": "python",
   "pygments_lexer": "ipython3",
   "version": "3.12.4"
  }
 },
 "nbformat": 4,
 "nbformat_minor": 2
}
