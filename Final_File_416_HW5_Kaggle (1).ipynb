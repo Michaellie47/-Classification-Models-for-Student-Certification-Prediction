{
  "nbformat": 4,
  "nbformat_minor": 0,
  "metadata": {
    "colab": {
      "provenance": [],
      "gpuType": "T4"
    },
    "kernelspec": {
      "name": "python3",
      "display_name": "Python 3"
    },
    "language_info": {
      "name": "python"
    },
    "accelerator": "GPU"
  },
  "cells": [
    {
      "cell_type": "markdown",
      "source": [
        "# **Kaggle Project 5: [Michael Lie]**"
      ],
      "metadata": {
        "id": "mPZLxHG7N9mu"
      }
    },
    {
      "cell_type": "markdown",
      "source": [
        "**Remember to write your team name above, which MUST match your team name on Kaggle!!** Assignments without a team name will receive a 0/40 on the \"accuracy on test data\" component of this assignment's grade."
      ],
      "metadata": {
        "id": "lRZ0yjtqYELC"
      }
    },
    {
      "cell_type": "markdown",
      "source": [
        "### **Load the Data**"
      ],
      "metadata": {
        "id": "lwnjXjk4B41V"
      }
    },
    {
      "cell_type": "code",
      "metadata": {
        "id": "4WRff5x-3TYI"
      },
      "source": [
        "# This cell is necessary only if you are running on Google Colab. It downloads the files to your\n",
        "# Colab instance so you don't have to upload them here.\n",
        "\n",
        "import requests\n",
        "\n",
        "def save_file(url, file_name):\n",
        "    r = requests.get(url)\n",
        "    with open(file_name, 'wb') as f:\n",
        "      f.write(r.content)\n",
        "\n",
        "save_file('https://courses.cs.washington.edu/courses/cse416/23sp/homeworks/hw5/edx_train.csv',\n",
        "          'edx_train.csv')\n",
        "save_file('https://courses.cs.washington.edu/courses/cse416/23sp/homeworks/hw5/edx_test.csv',\n",
        "          'edx_test.csv')"
      ],
      "execution_count": null,
      "outputs": []
    },
    {
      "cell_type": "markdown",
      "source": [
        "### **Sample Code: Random Classifier**\n",
        "\n",
        "**NOTE**: This classifier **DOES NOT** count as one of the 2 required for this assignment! It is merely here to illstrate how to submit your predictions.\n",
        "\n",
        "See the Kaggle assignment (Data tab) for a description of each column in the dataset. You are creating a classifier to predict whether or not a student will get certified, stored in the `\"certified\"` column."
      ],
      "metadata": {
        "id": "4RBuRNVKB_sa"
      }
    },
    {
      "cell_type": "code",
      "source": [
        "import pandas as pd\n",
        "from sklearn.dummy import DummyClassifier\n",
        "\n",
        "target = \"certified\" # target column\n",
        "\n",
        "# This classifier returns labels sampled uniformly at random\n",
        "df_train = pd.read_csv('edx_train.csv')\n",
        "dummy_model = DummyClassifier(strategy=\"uniform\")\n",
        "dummy_model.fit(df_train.drop(target, axis=1), df_train[target])"
      ],
      "metadata": {
        "id": "O_mvbzSAd5dU",
        "colab": {
          "base_uri": "https://localhost:8080/",
          "height": 75
        },
        "outputId": "7c8befdd-3acb-42d2-ba5b-9c0648fe5342"
      },
      "execution_count": null,
      "outputs": [
        {
          "output_type": "execute_result",
          "data": {
            "text/plain": [
              "DummyClassifier(strategy='uniform')"
            ],
            "text/html": [
              "<style>#sk-container-id-2 {color: black;background-color: white;}#sk-container-id-2 pre{padding: 0;}#sk-container-id-2 div.sk-toggleable {background-color: white;}#sk-container-id-2 label.sk-toggleable__label {cursor: pointer;display: block;width: 100%;margin-bottom: 0;padding: 0.3em;box-sizing: border-box;text-align: center;}#sk-container-id-2 label.sk-toggleable__label-arrow:before {content: \"▸\";float: left;margin-right: 0.25em;color: #696969;}#sk-container-id-2 label.sk-toggleable__label-arrow:hover:before {color: black;}#sk-container-id-2 div.sk-estimator:hover label.sk-toggleable__label-arrow:before {color: black;}#sk-container-id-2 div.sk-toggleable__content {max-height: 0;max-width: 0;overflow: hidden;text-align: left;background-color: #f0f8ff;}#sk-container-id-2 div.sk-toggleable__content pre {margin: 0.2em;color: black;border-radius: 0.25em;background-color: #f0f8ff;}#sk-container-id-2 input.sk-toggleable__control:checked~div.sk-toggleable__content {max-height: 200px;max-width: 100%;overflow: auto;}#sk-container-id-2 input.sk-toggleable__control:checked~label.sk-toggleable__label-arrow:before {content: \"▾\";}#sk-container-id-2 div.sk-estimator input.sk-toggleable__control:checked~label.sk-toggleable__label {background-color: #d4ebff;}#sk-container-id-2 div.sk-label input.sk-toggleable__control:checked~label.sk-toggleable__label {background-color: #d4ebff;}#sk-container-id-2 input.sk-hidden--visually {border: 0;clip: rect(1px 1px 1px 1px);clip: rect(1px, 1px, 1px, 1px);height: 1px;margin: -1px;overflow: hidden;padding: 0;position: absolute;width: 1px;}#sk-container-id-2 div.sk-estimator {font-family: monospace;background-color: #f0f8ff;border: 1px dotted black;border-radius: 0.25em;box-sizing: border-box;margin-bottom: 0.5em;}#sk-container-id-2 div.sk-estimator:hover {background-color: #d4ebff;}#sk-container-id-2 div.sk-parallel-item::after {content: \"\";width: 100%;border-bottom: 1px solid gray;flex-grow: 1;}#sk-container-id-2 div.sk-label:hover label.sk-toggleable__label {background-color: #d4ebff;}#sk-container-id-2 div.sk-serial::before {content: \"\";position: absolute;border-left: 1px solid gray;box-sizing: border-box;top: 0;bottom: 0;left: 50%;z-index: 0;}#sk-container-id-2 div.sk-serial {display: flex;flex-direction: column;align-items: center;background-color: white;padding-right: 0.2em;padding-left: 0.2em;position: relative;}#sk-container-id-2 div.sk-item {position: relative;z-index: 1;}#sk-container-id-2 div.sk-parallel {display: flex;align-items: stretch;justify-content: center;background-color: white;position: relative;}#sk-container-id-2 div.sk-item::before, #sk-container-id-2 div.sk-parallel-item::before {content: \"\";position: absolute;border-left: 1px solid gray;box-sizing: border-box;top: 0;bottom: 0;left: 50%;z-index: -1;}#sk-container-id-2 div.sk-parallel-item {display: flex;flex-direction: column;z-index: 1;position: relative;background-color: white;}#sk-container-id-2 div.sk-parallel-item:first-child::after {align-self: flex-end;width: 50%;}#sk-container-id-2 div.sk-parallel-item:last-child::after {align-self: flex-start;width: 50%;}#sk-container-id-2 div.sk-parallel-item:only-child::after {width: 0;}#sk-container-id-2 div.sk-dashed-wrapped {border: 1px dashed gray;margin: 0 0.4em 0.5em 0.4em;box-sizing: border-box;padding-bottom: 0.4em;background-color: white;}#sk-container-id-2 div.sk-label label {font-family: monospace;font-weight: bold;display: inline-block;line-height: 1.2em;}#sk-container-id-2 div.sk-label-container {text-align: center;}#sk-container-id-2 div.sk-container {/* jupyter's `normalize.less` sets `[hidden] { display: none; }` but bootstrap.min.css set `[hidden] { display: none !important; }` so we also need the `!important` here to be able to override the default hidden behavior on the sphinx rendered scikit-learn.org. See: https://github.com/scikit-learn/scikit-learn/issues/21755 */display: inline-block !important;position: relative;}#sk-container-id-2 div.sk-text-repr-fallback {display: none;}</style><div id=\"sk-container-id-2\" class=\"sk-top-container\"><div class=\"sk-text-repr-fallback\"><pre>DummyClassifier(strategy=&#x27;uniform&#x27;)</pre><b>In a Jupyter environment, please rerun this cell to show the HTML representation or trust the notebook. <br />On GitHub, the HTML representation is unable to render, please try loading this page with nbviewer.org.</b></div><div class=\"sk-container\" hidden><div class=\"sk-item\"><div class=\"sk-estimator sk-toggleable\"><input class=\"sk-toggleable__control sk-hidden--visually\" id=\"sk-estimator-id-2\" type=\"checkbox\" checked><label for=\"sk-estimator-id-2\" class=\"sk-toggleable__label sk-toggleable__label-arrow\">DummyClassifier</label><div class=\"sk-toggleable__content\"><pre>DummyClassifier(strategy=&#x27;uniform&#x27;)</pre></div></div></div></div></div>"
            ]
          },
          "metadata": {},
          "execution_count": 12
        }
      ]
    },
    {
      "cell_type": "markdown",
      "source": [
        "The code below generates predictions on the test set, and outputs the predictions into a CSV file."
      ],
      "metadata": {
        "id": "F3pMT8VlEk15"
      }
    },
    {
      "cell_type": "code",
      "source": [
        "# Generate predictions on the test set\n",
        "df_test = pd.read_csv('edx_test.csv')\n",
        "predictions = dummy_model.predict(df_test)\n",
        "\n",
        "# Save your predictions as a CSV\n",
        "to_save = df_test[['userid_DI']].copy()\n",
        "to_save.loc[:, 'certified'] = predictions\n",
        "to_save.to_csv('submission.csv', index=False)\n",
        "\n",
        "# See below for instructions on how to upload submission.csv to Kaggle,\n",
        "# in order to evaluate your model and get points."
      ],
      "metadata": {
        "id": "W1vMUKAVeDWK"
      },
      "execution_count": null,
      "outputs": []
    },
    {
      "cell_type": "markdown",
      "source": [
        "### **[5 Pts] Model Comparison**\n",
        "\n",
        "**Instructions**: Run at least 2 different classification models. The classification models we have learned in class are: [Logistic Regression](https://scikit-learn.org/stable/modules/generated/sklearn.linear_model.LogisticRegression.html), [k-Nearest Neighbors](https://scikit-learn.org/stable/modules/generated/sklearn.neighbors.KNeighborsClassifier.html), [Decision Trees](https://scikit-learn.org/stable/modules/generated/sklearn.tree.DecisionTreeClassifier.html), [Random Forests](https://scikit-learn.org/stable/modules/generated/sklearn.ensemble.RandomForestClassifier.html), and [AdaBoost](https://scikit-learn.org/stable/modules/generated/sklearn.ensemble.AdaBoostClassifier.html), [Neural Networks](https://scikit-learn.org/stable/modules/neural_networks_supervised.html). For each model, try at least 2 different hyperparameter settings.\n",
        "\n",
        "Then, make one or more visualizations that let you compare the models you trained. Sample visualizations you can make include confusion matrices, or graphs of train and validation accuracy/error. See past section and homework code for how to make these visualizations."
      ],
      "metadata": {
        "id": "r4Sv5DRBOJ_Q"
      }
    },
    {
      "cell_type": "markdown",
      "source": [],
      "metadata": {
        "id": "tpRDd09FhbPH"
      }
    },
    {
      "cell_type": "code",
      "source": [
        "import pandas as pd\n",
        "import numpy as np\n",
        "import matplotlib.pyplot as plt\n",
        "import seaborn as sns\n",
        "from sklearn.metrics import accuracy_score\n",
        "from sklearn.preprocessing import LabelEncoder\n",
        "from sklearn.impute import SimpleImputer\n",
        "\n",
        "\n",
        "# -Pre-processing-\n",
        "# Encoding categorical values in the dataframe\n",
        "# Replace missing categorical values with mode\n",
        "# Replace missing numerical values with mean\n",
        "# Dropping not significant features to be included\n",
        "\n",
        "category_cols = df_train.select_dtypes(include=['object']).columns\n",
        "label_encoder = {}\n",
        "for col in category_cols:\n",
        "    df_train[col] = LabelEncoder().fit_transform(df_train[col])\n",
        "    df_test[col] = LabelEncoder().fit_transform(df_test[col])\n",
        "\n",
        "\n",
        "\n",
        "from sklearn.model_selection import train_test_split\n",
        "X_train, X_val, y_train, y_val = train_test_split(df_train.drop(['certified', 'userid_DI'], axis=1), df_train['certified'], test_size=0.2, random_state=1)\n",
        "\n",
        "\n",
        "imputer = SimpleImputer(strategy = 'mean')\n",
        "X_train = imputer.fit_transform(X_train)\n",
        "X_val = imputer.fit_transform(X_val)\n",
        "\n",
        "\n",
        "# -Model 1: Logistic Regression with 6 different hyperparameters (l2 penalty/ regularization)-\n",
        "from sklearn.linear_model import LogisticRegression\n",
        "l2_penalties = [0.001, 0.01, 0.1, 1, 10, 100]\n",
        "l2_penalty_names = [f'coefficients [L2={l2_penalty:.0e}]'\n",
        "                    for l2_penalty in l2_penalties]\n",
        "\n",
        "accuracy_data_model1 = []\n",
        "\n",
        "for l2_penalty, l2_penalty_column_name in zip(l2_penalties, l2_penalty_names):\n",
        "  model_1 = LogisticRegression(penalty = 'l2', C = 1/l2_penalty, fit_intercept = False, max_iter = 10000)\n",
        "  model_1.fit(X_train, y_train)\n",
        "\n",
        "  train_accuracy = model_1.score(X_train, y_train)\n",
        "  val_accuracy = model_1.score(X_val, y_val)\n",
        "\n",
        "  accuracy_data_model1.append({\n",
        "        'l2_penalty': l2_penalty,\n",
        "        'train_accuracy': train_accuracy,\n",
        "        'validation_accuracy': val_accuracy,\n",
        "    })\n",
        "\n",
        "  y_pred_model_1 = model_1.predict(X_val)\n",
        "  y_pred_class = [int(pred.argmax()) for pred in y_pred_model_1]\n",
        "\n",
        "  accuracy = accuracy_score(y_val, y_pred_class)\n",
        "  print(accuracy)\n",
        "  print(f\"Model 1 (Logistic Regression) with L2 penalty {l2_penalty}: Validation Accuracy = {val_accuracy}\")\n",
        "\n",
        "accuracies_table_1 = pd.DataFrame(accuracy_data_model1)\n",
        "\n",
        "\n",
        "# -Model 2: K-Nearest Neighbors (KNN) with 2 Neighbors with 5 different hyperparameters (5 neighbors)-\n",
        "from sklearn.neighbors import KNeighborsClassifier\n",
        "n_neighbors = [5, 10, 15, 20, 25]\n",
        "accuracy_data_model2 = []\n",
        "\n",
        "for n_neighbor in n_neighbors:\n",
        "  model_2 = KNeighborsClassifier(n_neighbors = n_neighbor)\n",
        "  model_2.fit(X_train, y_train)\n",
        "\n",
        "  train_accuracy = model_2.score(X_train, y_train)\n",
        "  val_accuracy = model_2.score(X_val, y_val)\n",
        "\n",
        "  accuracy_data_model2.append({\n",
        "        'n_neighbors': n_neighbor,\n",
        "        'train_accuracy': train_accuracy,\n",
        "        'validation_accuracy': val_accuracy,\n",
        "    })\n",
        "\n",
        "  predictions_model_2 = model_2.predict(X_val)\n",
        "  y_pred_class = [int(pred.argmax()) for pred in predictions_model_2]\n",
        "\n",
        "  print(f\"Model 2 (KNN) with {n_neighbor} neighbors: Validation Accuracy = {val_accuracy}\")\n",
        "\n",
        "\n",
        "  accuracy = accuracy_score(y_val, y_pred_class)\n",
        "  print(accuracy)\n",
        "\n",
        "accuracies_table_2 = pd.DataFrame(accuracy_data_model2)\n",
        "\n",
        "\n",
        "# -Select the the Logistic Regression as the chosen best model due to validation accuracy-\n",
        "# Make predictions based on the Logistic Regression model\n",
        "best_model = max(accuracy_data_model1, key=lambda x: x['validation_accuracy'])\n",
        "model_1 = LogisticRegression(penalty='l2', C=1/best_model['l2_penalty'], fit_intercept=False, max_iter=10000)\n",
        "model_1.fit(X_train, y_train)\n",
        "\n",
        "\n",
        "df_test = df_test.drop(columns=['userid_DI'])\n",
        "df_test = imputer.transform(df_test)\n",
        "\n",
        "\n",
        "predictions_lr = model_1.predict(df_test)\n",
        "predictions_1 = [int(pred) for pred in predictions_lr]\n",
        "\n",
        "\n",
        "# -Saving to submission.csv file-\n",
        "df_test_submission = pd.read_csv('edx_test.csv')\n",
        "to_save = pd.DataFrame()\n",
        "to_save['userid_DI'] = df_test_submission['userid_DI']\n",
        "to_save['certified'] = predictions_1\n",
        "to_save.to_csv('submission.csv', index=False)\n",
        "\n",
        "\n",
        "\n",
        "# -Checking Accuracies tables-\n",
        "print(accuracies_table_1)\n",
        "print(accuracies_table_2)\n",
        "\n",
        "# -Plotting Training and Validation Accuracies-\n",
        "plt.figure(figsize = (10,6))\n",
        "\n",
        "plt.plot(accuracies_table_1['l2_penalty'], accuracies_table_1['train_accuracy'], color = 'red', label = 'Logistic Regression Train Error')\n",
        "plt.plot(accuracies_table_1['l2_penalty'], accuracies_table_1['validation_accuracy'], color = 'blue', linestyle = '--', label = 'Logistic Regression Validation Error')\n",
        "\n",
        "plt.plot(accuracies_table_2['n_neighbors'], accuracies_table_2['train_accuracy'], color = 'green', label = 'KNN Train Error')\n",
        "plt.plot(accuracies_table_2['n_neighbors'], accuracies_table_2['validation_accuracy'], color = 'purple', linestyle = '--', label = 'KNN Validation Error')\n",
        "\n",
        "plt.title('Model 1 (Logistic Regression) and Model 2 (K-Nearest Neighbors) Accuracy')\n",
        "plt.xlabel('Hyperparameter')\n",
        "plt.ylabel('Accuracy')\n",
        "plt.legend()\n",
        "plt.grid(True)\n",
        "plt.xlim(0,101)\n",
        "plt.show()"
      ],
      "metadata": {
        "colab": {
          "base_uri": "https://localhost:8080/",
          "height": 1000
        },
        "id": "zKj-LmtR0VZG",
        "outputId": "685620cb-5474-4d9c-88bd-500a37deff44"
      },
      "execution_count": null,
      "outputs": [
        {
          "output_type": "stream",
          "name": "stdout",
          "text": [
            "0.5679223744292238\n",
            "Model 1 (Logistic Regression) with L2 penalty 0.001: Validation Accuracy = 0.96175799086758\n",
            "0.5679223744292238\n",
            "Model 1 (Logistic Regression) with L2 penalty 0.01: Validation Accuracy = 0.9634703196347032\n",
            "0.5679223744292238\n",
            "Model 1 (Logistic Regression) with L2 penalty 0.1: Validation Accuracy = 0.9634703196347032\n",
            "0.5679223744292238\n",
            "Model 1 (Logistic Regression) with L2 penalty 1: Validation Accuracy = 0.9628995433789954\n",
            "0.5679223744292238\n",
            "Model 1 (Logistic Regression) with L2 penalty 10: Validation Accuracy = 0.9600456621004566\n",
            "0.5679223744292238\n",
            "Model 1 (Logistic Regression) with L2 penalty 100: Validation Accuracy = 0.958904109589041\n",
            "Model 2 (KNN) with 5 neighbors: Validation Accuracy = 0.771689497716895\n",
            "0.5679223744292238\n",
            "Model 2 (KNN) with 10 neighbors: Validation Accuracy = 0.7819634703196348\n",
            "0.5679223744292238\n",
            "Model 2 (KNN) with 15 neighbors: Validation Accuracy = 0.7819634703196348\n",
            "0.5679223744292238\n",
            "Model 2 (KNN) with 20 neighbors: Validation Accuracy = 0.7768264840182648\n",
            "0.5679223744292238\n",
            "Model 2 (KNN) with 25 neighbors: Validation Accuracy = 0.7785388127853882\n",
            "0.5679223744292238\n",
            "0       MHxPC130476531\n",
            "1       MHxPC130559898\n",
            "2       MHxPC130552712\n",
            "3       MHxPC130394971\n",
            "4       MHxPC130191077\n",
            "             ...      \n",
            "2915    MHxPC130421523\n",
            "2916    MHxPC130116114\n",
            "2917    MHxPC130239033\n",
            "2918    MHxPC130445460\n",
            "2919    MHxPC130133406\n",
            "Name: userid_DI, Length: 2920, dtype: object\n"
          ]
        },
        {
          "output_type": "display_data",
          "data": {
            "text/plain": [
              "<Figure size 1000x600 with 1 Axes>"
            ],
            "image/png": "[encoded data removed]"
          },
          "metadata": {}
        }
      ]
    },
    {
      "cell_type": "markdown",
      "source": [
        "**Remember to submit your submissions CSV FILE on Kaggle!** 40 pts come from your accuracy on the private test data.\n",
        "\n",
        "Attend section on Thurs 5/11 for a demo of how to uppload submissions to Kaggle. We also have screenshots below (ingore summer and homework number in pictures)\n",
        "\n",
        "Step 1: See the list of files on Colab\n",
        "\n",
        "![See Colab Files](https://courses.cs.washington.edu/courses/cse416/22su/homework/hw4/programming/1_colab_see_files.jpg)\n",
        "\n",
        "Step 2: Download `submission.csv`\n",
        "\n",
        "![Download Colab File](https://courses.cs.washington.edu/courses/cse416/22su/homework/hw4/programming/2_colab_download_file.jpg)\n",
        "\n",
        "Step 3: Join the Kaggle competition.\n",
        "\n",
        "![Join the Kaggle Competition](https://courses.cs.washington.edu/courses/cse416/22su/homework/hw4/programming/3_kaggle_join_competition.jpg)\n",
        "\n",
        "Step 4: Enusre your team name in Kaggle matches the one at the top of this notebook!\n",
        "\n",
        "![Check Team Name](https://courses.cs.washington.edu/courses/cse416/22su/homework/hw4/programming/4_kaggle_team_name.jpg)\n",
        "\n",
        "Step 5: Upload `submission.csv` to Kaggle\n",
        "\n",
        "![Upload submission.csv](https://courses.cs.washington.edu/courses/cse416/22su/homework/hw4/programming/6_kaggle_upload_submission.jpg)\n",
        "\n"
      ],
      "metadata": {
        "id": "xz_Yk6BDXk1H"
      }
    },
    {
      "cell_type": "markdown",
      "source": [
        "### **Discussion**\n",
        "\n"
      ],
      "metadata": {
        "id": "aOwxTjy3OPh6"
      }
    },
    {
      "cell_type": "markdown",
      "source": [
        "#### **[7 Pts] Training the Models**\n",
        "\n",
        "**Instructions**: Discuss what models you tried, and what you did to improve your initial predictions. Discuss what hyperparameters you tried, and which hyperparameters seemed important for your final model. Finally, discuss what you are inferring from the above visualiation(s)."
      ],
      "metadata": {
        "id": "W8wZm-0cOe6U"
      }
    },
    {
      "cell_type": "markdown",
      "source": [
        "In Homework 5, I've trained two models using 2 classification algorithms: Logistic Regression with 6 different hyper-parameters of l2 regularization (l2 penalties: 0.001, 0.01, 0.1, 1, 10, 100), and K-Nearest Neighbors with 5 different hyper-parameters of 5 neighbors: 5, 10, 15, 20, 25.\n",
        "\n",
        "Initially, without any pre-processing as it is given in the starter code (without any edits), the accuracy is 0.51642 which is not good. As I did the pre-processing, I applied several methods to enable both classification algorithms to be trained on, such as; handling missing values (NaN) as well as encoding categorical variables by one-hot encoding (converting categorical variables into numerical variables). After the pre-processing, I trained the model on top of the pre-processed data and displayed the validation and training accuracy varies on different hyperparameters for both the Logistic Regression and KNN models.\n",
        "\n",
        "From the accuracy graph, smaller l2 regularization parameter (l2 penalty) yields higher validation accuracy (smaller l2 -> higher C).\n",
        "\n",
        "From the accuracy graph, the choice of number of neighbors shows different impact on the validation accuracy which we do not know how to judge from the graph above, regarding how the validation accuracy would react as we include more neighbors (hyper-parameter).\n",
        "\n",
        "In conclusion, I've decided to use the Logistic Regression as the best model as it yields the highest validation accuracy which meets the requirement of the assignment, which is to get a minimum of 0.95 accuracy.\n"
      ],
      "metadata": {
        "id": "1QFdF3wSXLgd"
      }
    },
    {
      "cell_type": "markdown",
      "source": [
        "#### **[3 Pts] Feature Selection**\n",
        "\n",
        "**Instructions**: Discuss what features you used and whether you did some transformations on them. What features seemed important for your final model?"
      ],
      "metadata": {
        "id": "4uCjBLL1Ow-Q"
      }
    },
    {
      "cell_type": "markdown",
      "source": [
        "In my pre-processing stage, I've dropped one feature or column which is userid_ID and decided to use the rest columns as my features when training the models. In my pre-processing, I handled missing values (NaN) by imputing the mean whenever the entry is NaN as well as encode categorical variables by transforming them into numerical variables in order for the models to be able to read them and trained upon the new pre-processed data.\n"
      ],
      "metadata": {
        "id": "oOGdC9EGXKst"
      }
    },
    {
      "cell_type": "code",
      "source": [
        "coefficients = model_1.coef_\n",
        "print()\n",
        "print(coefficients)\n",
        "\n",
        "print()\n",
        "\n",
        "print(df_train.head())\n",
        "\n",
        "print()\n",
        "\n",
        "print('Largest Coefficient:', coefficients.min())\n",
        "print()\n",
        "print(coefficients[0])\n"
      ],
      "metadata": {
        "colab": {
          "base_uri": "https://localhost:8080/"
        },
        "id": "q4bHYlXyJwcv",
        "outputId": "e519ee96-4355-4c5d-d76f-04d5320a1dcc"
      },
      "execution_count": null,
      "outputs": [
        {
          "output_type": "stream",
          "name": "stdout",
          "text": [
            "\n",
            "[[ 5.00407512e-01 -6.47276755e-02  9.25121638e+00  1.60233057e+00\n",
            "  -2.40457131e-02  6.16730681e-02 -7.56256976e-03 -1.49822969e-01\n",
            "   1.03016479e-03  7.75352655e-03  1.03400425e-04  7.58642610e-02\n",
            "  -1.71852943e-04  2.26820616e-01 -7.76629860e-01]]\n",
            "\n",
            "   course_id  userid_DI  registered  viewed  explored  certified  \\\n",
            "0          1       8036           1       1         1          1   \n",
            "1          2       7908           1       1         1          1   \n",
            "2          1       6543           1       1         1          1   \n",
            "3          2       4051           1       1         1          1   \n",
            "4          1       3676           1       1         0          0   \n",
            "\n",
            "   final_cc_cname_DI  LoE_DI     YoB  gender  start_time_DI  last_event_DI  \\\n",
            "0                 32       3  1984.0       1            152            268   \n",
            "1                 31       3  1985.0       0            155            279   \n",
            "2                 10       5     NaN       2            333            260   \n",
            "3                 31       0  1982.0       1             15            285   \n",
            "4                 32       4  1989.0       1            177            145   \n",
            "\n",
            "   nevents  ndays_act  nplay_video  nchapters  nforum_posts  \n",
            "0   1161.0       50.0          NaN       12.0             0  \n",
            "1   1360.0       10.0          NaN       29.0             0  \n",
            "2     77.0       18.0          NaN        7.0             0  \n",
            "3   1425.0       29.0          NaN       34.0             0  \n",
            "4      6.0        1.0          NaN        1.0             0  \n",
            "\n",
            "Largest Coefficient: -0.7766298604983648\n",
            "\n",
            "[ 5.00407512e-01 -6.47276755e-02  9.25121638e+00  1.60233057e+00\n",
            " -2.40457131e-02  6.16730681e-02 -7.56256976e-03 -1.49822969e-01\n",
            "  1.03016479e-03  7.75352655e-03  1.03400425e-04  7.58642610e-02\n",
            " -1.71852943e-04  2.26820616e-01 -7.76629860e-01]\n"
          ]
        }
      ]
    },
    {
      "cell_type": "markdown",
      "source": [
        "As we can see from the above, that the Largest Coefficient with the greatest magnitude (absolute value) of 0.7766298604983648 that corresponds to the nforum_posts feature."
      ],
      "metadata": {
        "id": "vryMYz-xKYVs"
      }
    },
    {
      "cell_type": "markdown",
      "source": [
        "#### **[5 Pts] Ethical Implications**\n",
        "\n",
        "**Instructions**: Consider and discuss the ethical implications of using the model you trained. Imagine you were hired to work as a data scientist for an online education platform (exciting, right?). They want to use your model to predict which students they should tailor their course material towards so they can maximize their profits. Their idea is to use the model to help predict which student groups (i.e. from specific countries or certain educational backgrounds) would make them the most money by getting the most participants to complete their paid certificate program. Are there any ethical considerations we should think about before acting on that plan?"
      ],
      "metadata": {
        "id": "nbodmlrhPCJv"
      }
    },
    {
      "cell_type": "markdown",
      "source": [
        "Using a predictive model with the short-term purpose of making the most money out of the students by getting the most participants to complete their paid certificate program raises several ethical concerns such as biases to be present in the data, undermining the online education platform's credibility and integrity, and could lead to discrimination.\n",
        "\n",
        "Firstly, using the predictive model with the purpose of making the most money, if not careful enough, it could lead to a certain bias which is the historical bias. As we know a historical bias is described as the world we lived in one that contains biases for/against certain demographics, even 'accurate' data could still be harmful. Which also means that historical bias exists even with perfect sampling or feature measurement (other sources of bias are possible). In our case, access to education could be taken account of as it may indirectly reinforce inequalities.\n",
        "\n",
        "Moreover, the online education platform's credibility and integrity would be questioned due to the purpose of solely maximizing profit. Whereas, they could first prioritize fairness, transparency, and especially the development along with the deployment of the preditive model."
      ],
      "metadata": {
        "id": "w3WVhDKSXMAt"
      }
    }
  ]
}