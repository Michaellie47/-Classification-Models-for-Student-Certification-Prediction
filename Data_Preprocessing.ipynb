{
 "cells": [
  {
   "cell_type": "markdown",
   "metadata": {},
   "source": [
    "# Load the Data\n",
    "Note: Only necessary when running on Google Colab."
   ]
  },
  {
   "cell_type": "code",
   "execution_count": null,
   "metadata": {},
   "outputs": [],
   "source": [
    "import requests\n",
    "\n",
    "def save_file(url, file_name):\n",
    "    r = requests.get(url)\n",
    "    with open(file_name, 'wb') as f:\n",
    "      f.write(r.content)\n",
    "\n",
    "save_file('https://courses.cs.washington.edu/courses/cse416/23sp/homeworks/hw5/edx_train.csv',\n",
    "          'edx_train.csv')\n",
    "save_file('https://courses.cs.washington.edu/courses/cse416/23sp/homeworks/hw5/edx_test.csv',\n",
    "          'edx_test.csv')"
   ]
  },
  {
   "cell_type": "markdown",
   "metadata": {},
   "source": [
    "# Data Preprocessing\n",
    "- Split the data into `df_train`, `df_test` (Test Dataset), and `target` as the intended target variable.\n",
    "\n",
    "- Use `df_train` as the dataset to work on for modeling.\n",
    "\n",
    "- Saving predictions as a CSV file."
   ]
  },
  {
   "cell_type": "code",
   "execution_count": null,
   "metadata": {},
   "outputs": [],
   "source": [
    "import pandas as pd\n",
    "from sklearn.dummy import DummyClassifier\n",
    "\n",
    "target = \"certified\" # target column\n",
    "\n",
    "# This classifier returns labels sampled uniformly at random\n",
    "df_train = pd.read_csv('edx_train.csv')\n",
    "dummy_model = DummyClassifier(strategy=\"uniform\")\n",
    "dummy_model.fit(df_train.drop(target, axis=1), df_train[target])\n",
    "\n",
    "\n",
    "# Generate predictions on the test set\n",
    "df_test = pd.read_csv('edx_test.csv')\n",
    "predictions = dummy_model.predict(df_test)\n",
    "\n",
    "# Save your predictions as a CSV\n",
    "to_save = df_test[['userid_DI']].copy()\n",
    "to_save.loc[:, 'certified'] = predictions\n",
    "to_save.to_csv('submission.csv', index=False)"
   ]
  },
  {
   "cell_type": "markdown",
   "metadata": {},
   "source": [
    "- Label encoding for categorical features.\n",
    "- Dropping non-significant features for modeling."
   ]
  },
  {
   "cell_type": "code",
   "execution_count": null,
   "metadata": {},
   "outputs": [],
   "source": [
    "# Label Encoding Categorical Features\n",
    "from sklearn.preprocessing import LabelEncoder\n",
    "category_cols = df_train.select_dtypes(include=['object']).columns\n",
    "label_encoder = {}\n",
    "for col in category_cols:\n",
    "    df_train[col] = LabelEncoder().fit_transform(df_train[col])\n",
    "    df_test[col] = LabelEncoder().fit_transform(df_test[col])"
   ]
  },
  {
   "cell_type": "markdown",
   "metadata": {},
   "source": [
    "Split `df_train` dataset into `X_train` and `y_train` Training dataset, and `X_val` and `y_val` Validation dataset."
   ]
  },
  {
   "cell_type": "code",
   "execution_count": null,
   "metadata": {},
   "outputs": [],
   "source": [
    "from sklearn.model_selection import train_test_split\n",
    "X_train, X_val, y_train, y_val = train_test_split(df_train.drop(['certified', 'userid_DI'], axis=1), df_train['certified'], test_size=0.2, random_state=1)"
   ]
  },
  {
   "cell_type": "markdown",
   "metadata": {},
   "source": [
    "Handling missing values using the mean (numerical)."
   ]
  },
  {
   "cell_type": "code",
   "execution_count": null,
   "metadata": {},
   "outputs": [],
   "source": [
    "from sklearn.impute import SimpleImputer\n",
    "imputer = SimpleImputer(strategy = 'mean')\n",
    "X_train = imputer.fit_transform(X_train)\n",
    "X_val = imputer.fit_transform(X_val)"
   ]
  }
 ],
 "metadata": {
  "kernelspec": {
   "display_name": "Python 3",
   "language": "python",
   "name": "python3"
  },
  "language_info": {
   "codemirror_mode": {
    "name": "ipython",
    "version": 3
   },
   "file_extension": ".py",
   "mimetype": "text/x-python",
   "name": "python",
   "nbconvert_exporter": "python",
   "pygments_lexer": "ipython3",
   "version": "3.12.4"
  }
 },
 "nbformat": 4,
 "nbformat_minor": 2
}
